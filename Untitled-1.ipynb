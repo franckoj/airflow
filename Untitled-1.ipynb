{
 "cells": [
  {
   "cell_type": "code",
   "execution_count": 1,
   "metadata": {},
   "outputs": [
    {
     "name": "stdout",
     "output_type": "stream",
     "text": [
      "hi\n"
     ]
    }
   ],
   "source": [
    "print(\"hi\")"
   ]
  },
  {
   "cell_type": "code",
   "execution_count": 3,
   "metadata": {},
   "outputs": [],
   "source": [
    "class Car():\n",
    "    def __init__(self, brand, color, mileage):\n",
    "        self.brand = brand\n",
    "        self.color = color\n",
    "        self.mileage = mileage\n",
    "        \n",
    "    def start(self):\n",
    "        print(\"starting the car\")\n",
    "        \n",
    "    def stop(self):\n",
    "        print(\"stoping the car\")"
   ]
  },
  {
   "cell_type": "code",
   "execution_count": 10,
   "metadata": {},
   "outputs": [],
   "source": [
    "class Engine(Car):\n",
    "    def __init__(self, oil, power):\n",
    "        self.oil = oil\n",
    "        self.power = power\n",
    "        super().__init__()\n",
    "        \n",
    "    def status(self):\n",
    "        print(\"engine is working fine\")\n",
    "        \n",
    "        "
   ]
  },
  {
   "cell_type": "code",
   "execution_count": 11,
   "metadata": {},
   "outputs": [
    {
     "ename": "TypeError",
     "evalue": "Car.__init__() missing 3 required positional arguments: 'brand', 'color', and 'mileage'",
     "output_type": "error",
     "traceback": [
      "\u001b[0;31m---------------------------------------------------------------------------\u001b[0m",
      "\u001b[0;31mTypeError\u001b[0m                                 Traceback (most recent call last)",
      "Cell \u001b[0;32mIn[11], line 1\u001b[0m\n\u001b[0;32m----> 1\u001b[0m engine1\u001b[38;5;241m=\u001b[39m\u001b[43mEngine\u001b[49m\u001b[43m(\u001b[49m\u001b[43moil\u001b[49m\u001b[38;5;241;43m=\u001b[39;49m\u001b[38;5;124;43m\"\u001b[39;49m\u001b[38;5;124;43mcococnut\u001b[39;49m\u001b[38;5;124;43m\"\u001b[39;49m\u001b[43m,\u001b[49m\u001b[43m \u001b[49m\u001b[43mpower\u001b[49m\u001b[38;5;241;43m=\u001b[39;49m\u001b[38;5;241;43m220\u001b[39;49m\u001b[43m)\u001b[49m\n",
      "Cell \u001b[0;32mIn[10], line 5\u001b[0m, in \u001b[0;36mEngine.__init__\u001b[0;34m(self, oil, power)\u001b[0m\n\u001b[1;32m      3\u001b[0m \u001b[38;5;28mself\u001b[39m\u001b[38;5;241m.\u001b[39moil \u001b[38;5;241m=\u001b[39m oil\n\u001b[1;32m      4\u001b[0m \u001b[38;5;28mself\u001b[39m\u001b[38;5;241m.\u001b[39mpower \u001b[38;5;241m=\u001b[39m power\n\u001b[0;32m----> 5\u001b[0m \u001b[38;5;28;43msuper\u001b[39;49m\u001b[43m(\u001b[49m\u001b[43m)\u001b[49m\u001b[38;5;241;43m.\u001b[39;49m\u001b[38;5;21;43m__init__\u001b[39;49m\u001b[43m(\u001b[49m\u001b[43m)\u001b[49m\n",
      "\u001b[0;31mTypeError\u001b[0m: Car.__init__() missing 3 required positional arguments: 'brand', 'color', and 'mileage'"
     ]
    }
   ],
   "source": [
    "engine1=Engine(oil=\"cococnut\", power=220)"
   ]
  },
  {
   "cell_type": "code",
   "execution_count": 7,
   "metadata": {},
   "outputs": [
    {
     "ename": "AttributeError",
     "evalue": "'Engine' object has no attribute 'brand'",
     "output_type": "error",
     "traceback": [
      "\u001b[0;31m---------------------------------------------------------------------------\u001b[0m",
      "\u001b[0;31mAttributeError\u001b[0m                            Traceback (most recent call last)",
      "Cell \u001b[0;32mIn[7], line 1\u001b[0m\n\u001b[0;32m----> 1\u001b[0m \u001b[38;5;28mprint\u001b[39m(\u001b[43mengine1\u001b[49m\u001b[38;5;241;43m.\u001b[39;49m\u001b[43mbrand\u001b[49m)\n",
      "\u001b[0;31mAttributeError\u001b[0m: 'Engine' object has no attribute 'brand'"
     ]
    }
   ],
   "source": [
    "print(engine1.brand)"
   ]
  },
  {
   "cell_type": "code",
   "execution_count": 12,
   "metadata": {},
   "outputs": [],
   "source": [
    "a_list = [1,2,3,4,5,6,7]"
   ]
  },
  {
   "cell_type": "code",
   "execution_count": 13,
   "metadata": {},
   "outputs": [],
   "source": [
    "a_list.reverse()"
   ]
  },
  {
   "cell_type": "code",
   "execution_count": 14,
   "metadata": {},
   "outputs": [
    {
     "data": {
      "text/plain": [
       "[7, 6, 5, 4, 3, 2, 1]"
      ]
     },
     "execution_count": 14,
     "metadata": {},
     "output_type": "execute_result"
    }
   ],
   "source": [
    "a_list"
   ]
  },
  {
   "cell_type": "code",
   "execution_count": null,
   "metadata": {},
   "outputs": [],
   "source": [
    "rev_list = []\n",
    "for i in a_list:\n",
    "    i.ap"
   ]
  },
  {
   "cell_type": "code",
   "execution_count": 15,
   "metadata": {},
   "outputs": [
    {
     "name": "stdout",
     "output_type": "stream",
     "text": [
      "The count of prime numbers up to 100000 is: 9592\n"
     ]
    }
   ],
   "source": [
    "def count_primes(n):\n",
    "    if n < 2:\n",
    "        return 0\n",
    "    \n",
    "    # Create a boolean array to mark prime numbers\n",
    "    is_prime = [True] * (n + 1)\n",
    "    is_prime[0] = is_prime[1] = False  # 0 and 1 are not prime numbers\n",
    "    \n",
    "    # Mark non-prime numbers\n",
    "    for i in range(2, int(n**0.5) + 1):\n",
    "        if is_prime[i]:\n",
    "            for j in range(i * i, n + 1, i):\n",
    "                is_prime[j] = False\n",
    "    \n",
    "    # Count prime numbers\n",
    "    return sum(is_prime)\n",
    "\n",
    "# Count primes up to 100,000\n",
    "n = 100000\n",
    "prime_count = count_primes(n)\n",
    "print(f\"The count of prime numbers up to {n} is: {prime_count}\")\n"
   ]
  },
  {
   "cell_type": "code",
   "execution_count": 3,
   "metadata": {},
   "outputs": [
    {
     "name": "stdout",
     "output_type": "stream",
     "text": [
      "The count of prime numbers up to 1000000 is: 78498 and took 1.8076040744781494s\n"
     ]
    }
   ],
   "source": [
    "def is_prime(num):\n",
    "    if num <= 1:\n",
    "        return False\n",
    "    for i in range(2, int(num**0.5) + 1):\n",
    "        if num % i == 0:\n",
    "            return False\n",
    "    return True\n",
    "\n",
    "def count_primes(n):\n",
    "    count = 0\n",
    "    for i in range(2, n + 1):\n",
    "        if is_prime(i):\n",
    "            count += 1\n",
    "    return count\n",
    "\n",
    "import time\n",
    "s_time = time.time()\n",
    "# Count primes up to 100,000\n",
    "n = 1000000\n",
    "prime_count = count_primes(n)\n",
    "e_time = time.time()\n",
    "print(f\"The count of prime numbers up to {n} is: {prime_count} and took {e_time - s_time}s\")\n"
   ]
  },
  {
   "cell_type": "code",
   "execution_count": null,
   "metadata": {},
   "outputs": [],
   "source": []
  }
 ],
 "metadata": {
  "kernelspec": {
   "display_name": ".airflowenv",
   "language": "python",
   "name": "python3"
  },
  "language_info": {
   "codemirror_mode": {
    "name": "ipython",
    "version": 3
   },
   "file_extension": ".py",
   "mimetype": "text/x-python",
   "name": "python",
   "nbconvert_exporter": "python",
   "pygments_lexer": "ipython3",
   "version": "3.12.4"
  }
 },
 "nbformat": 4,
 "nbformat_minor": 2
}
